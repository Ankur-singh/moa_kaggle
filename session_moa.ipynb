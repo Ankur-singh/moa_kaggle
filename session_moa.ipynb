{
  "nbformat": 4,
  "nbformat_minor": 0,
  "metadata": {
    "colab": {
      "name": "session_ moa.ipynb",
      "provenance": [],
      "mount_file_id": "1NLoAF9GhVg_EGccjLIc2UWAQ1idMJXga",
      "authorship_tag": "ABX9TyOnk1JgL6SmxEHnew5ZQLaa",
      "include_colab_link": true
    },
    "kernelspec": {
      "name": "python3",
      "display_name": "Python 3"
    }
  },
  "cells": [
    {
      "cell_type": "markdown",
      "metadata": {
        "id": "view-in-github",
        "colab_type": "text"
      },
      "source": [
        "<a href=\"https://colab.research.google.com/github/Ankur-singh/moa_kaggle/blob/main/session_moa.ipynb\" target=\"_parent\"><img src=\"https://colab.research.google.com/assets/colab-badge.svg\" alt=\"Open In Colab\"/></a>"
      ]
    },
    {
      "cell_type": "markdown",
      "metadata": {
        "id": "PEtRpMJxWbZB"
      },
      "source": [
        "## Setup\n",
        "\n",
        "Read the docs, [here](https://github.com/Kaggle/kaggle-api).\n",
        "\n",
        "First, we will update kaggle package . . . "
      ]
    },
    {
      "cell_type": "code",
      "metadata": {
        "id": "42Lptn3nUKY0"
      },
      "source": [
        "!pip install -U -q kaggle"
      ],
      "execution_count": 1,
      "outputs": []
    },
    {
      "cell_type": "markdown",
      "metadata": {
        "id": "hRKD0zh6ZwjG"
      },
      "source": [
        "Next, we will have to upload the `kaggle.json` file, point the environment to the directory where `kaggle.json` is saved, and finally update the permission. \n",
        "\n",
        "You can do all of it by running the below cell."
      ]
    },
    {
      "cell_type": "code",
      "metadata": {
        "id": "9Nw1kLrxVIuc"
      },
      "source": [
        "import os\n",
        "from pathlib import Path\n",
        "\n",
        "kpath = Path('/content')\n",
        "os.environ['KAGGLE_CONFIG_DIR']= str(kpath)\n",
        "(kpath/'kaggle.json').chmod(600)"
      ],
      "execution_count": 11,
      "outputs": []
    },
    {
      "cell_type": "markdown",
      "metadata": {
        "id": "OcGkuvsDaXPO"
      },
      "source": [
        "Now that everything is setup, its time to download the dataset from kaggle.\n",
        "\n",
        "**Note:** I have added two extra arguments:\n",
        "- `-p`: path (where data is to be downloaded)\n",
        "- `-q`: quiet"
      ]
    },
    {
      "cell_type": "code",
      "metadata": {
        "id": "Bv-10bgAUPFT",
        "outputId": "1169871f-c94e-482f-d2de-2bb12cd53b18",
        "colab": {
          "base_uri": "https://localhost:8080/"
        }
      },
      "source": [
        "!kaggle competitions download -c lish-moa -p data -q"
      ],
      "execution_count": 18,
      "outputs": [
        {
          "output_type": "stream",
          "text": [
            "Warning: Looks like you're using an outdated API Version, please consider updating (server 1.5.9 / client 1.5.4)\n"
          ],
          "name": "stdout"
        }
      ]
    },
    {
      "cell_type": "markdown",
      "metadata": {
        "id": "ZK6VfwW5a09m"
      },
      "source": [
        "Its good time to mount our google drive and copy everything . . . "
      ]
    },
    {
      "cell_type": "code",
      "metadata": {
        "id": "fVI-PQugbLAy",
        "outputId": "2d7a5f48-ee0a-4e2b-dc47-fdef35f644a1",
        "colab": {
          "base_uri": "https://localhost:8080/"
        }
      },
      "source": [
        "from google.colab import drive\n",
        "drive.mount('/content/drive')"
      ],
      "execution_count": 14,
      "outputs": [
        {
          "output_type": "stream",
          "text": [
            "Mounted at /content/drive\n"
          ],
          "name": "stdout"
        }
      ]
    },
    {
      "cell_type": "code",
      "metadata": {
        "id": "U8sIySqkbfLv"
      },
      "source": [
        "!mkdir /content/drive/My\\ Drive/moa_kaggle\n",
        "!cp -r data /content/drive/My\\ Drive/moa_kaggle/"
      ],
      "execution_count": 19,
      "outputs": []
    },
    {
      "cell_type": "markdown",
      "metadata": {
        "id": "_8vkQz_0ct7H"
      },
      "source": [
        "This is all we need to download the dataset from kaggle and save it to our Google drive!\n",
        "\n",
        "This was a lot of work, I agree. But you will have to do it only once. "
      ]
    },
    {
      "cell_type": "markdown",
      "metadata": {
        "id": "NjIL-DnSdznP"
      },
      "source": [
        "## Data "
      ]
    },
    {
      "cell_type": "code",
      "metadata": {
        "id": "x3ttGJUx36mI"
      },
      "source": [
        "import os\n",
        "import random\n",
        "import numpy as np\n",
        "import pandas as pd\n",
        "from pathlib import Path\n",
        "\n",
        "from sklearn import preprocessing\n",
        "from sklearn.metrics import log_loss\n",
        "from sklearn.preprocessing import StandardScaler\n",
        "from sklearn.decomposition import PCA\n",
        "from sklearn.preprocessing import QuantileTransformer\n",
        "\n",
        "import warnings\n",
        "warnings.filterwarnings('ignore')"
      ],
      "execution_count": 23,
      "outputs": []
    },
    {
      "cell_type": "code",
      "metadata": {
        "id": "Rud7Ya8Z3ULZ"
      },
      "source": [
        "def seed_everything(seed=42):\n",
        "    random.seed(seed)\n",
        "    os.environ['PYTHONHASHSEED'] = str(seed)\n",
        "    np.random.seed(seed)\n",
        "    \n",
        "seed_everything(seed=42)"
      ],
      "execution_count": 25,
      "outputs": []
    },
    {
      "cell_type": "markdown",
      "metadata": {
        "id": "4VHv8qxzeUJA"
      },
      "source": [
        "Set the `path` variable. It would be a great investment of your time to learn [pathlib](https://realpython.com/python-pathlib/) library."
      ]
    },
    {
      "cell_type": "code",
      "metadata": {
        "id": "1SvUPQ_74fsV",
        "outputId": "2853a6d1-adc2-47b8-aefd-e7bbce7d3e31",
        "colab": {
          "base_uri": "https://localhost:8080/"
        }
      },
      "source": [
        "path = Path('/content/drive/My Drive/moa_kaggle/data')\n",
        "path"
      ],
      "execution_count": 26,
      "outputs": [
        {
          "output_type": "execute_result",
          "data": {
            "text/plain": [
              "PosixPath('/content/drive/My Drive/moa_kaggle/data')"
            ]
          },
          "metadata": {
            "tags": []
          },
          "execution_count": 26
        }
      ]
    },
    {
      "cell_type": "code",
      "metadata": {
        "id": "cpQzd89m4ejH"
      },
      "source": [
        "train_features       = pd.read_csv(path/'train_features.csv')\n",
        "train_targets_scored = pd.read_csv(path/'train_targets_scored.csv')\n",
        "test_features        = pd.read_csv(path/'test_features.csv')"
      ],
      "execution_count": 16,
      "outputs": []
    },
    {
      "cell_type": "markdown",
      "metadata": {
        "id": "LHE-1z_3nOcm"
      },
      "source": [
        "Once we have loaded all our data. Lets find a good stater notebook. For this competition, we will be using [this notebook](https://www.kaggle.com/kushal1506/moa-pytorch-0-01859-rankgauss-pca-nn)."
      ]
    },
    {
      "cell_type": "code",
      "metadata": {
        "id": "cf0kCQXh6JSw"
      },
      "source": [
        "GENES = [col for col in train_features.columns if col.startswith('g-')]\n",
        "CELLS = [col for col in train_features.columns if col.startswith('c-')]\n",
        "len(GENES), len(CELLS)"
      ],
      "execution_count": 17,
      "outputs": []
    },
    {
      "cell_type": "code",
      "metadata": {
        "id": "-sFuU98i2XsF",
        "outputId": "95f3b35a-826a-4a00-912c-a6d4ef13ac36",
        "colab": {
          "base_uri": "https://localhost:8080/"
        }
      },
      "source": [
        "# rankGauss\n",
        "def rankgauss(train, test, col):\n",
        "    transformer = QuantileTransformer(n_quantiles=100, random_state=0, output_distribution=\"normal\")\n",
        "    train[col] = transformer.fit_transform(train[col].values)\n",
        "    test [col] = transformer.transform    (test [col].values)\n",
        "    return train, test\n",
        "\n",
        "col =  GENES + CELLS\n",
        "train_features, test_features = rankGauss(train_features, test_features, col)\n",
        "train_features.shape, test_features.shape"
      ],
      "execution_count": 35,
      "outputs": [
        {
          "output_type": "execute_result",
          "data": {
            "text/plain": [
              "((23814, 876), (3982, 876))"
            ]
          },
          "metadata": {
            "tags": []
          },
          "execution_count": 35
        }
      ]
    },
    {
      "cell_type": "code",
      "metadata": {
        "id": "TUuxWDNZ3h7a",
        "outputId": "48aee92f-18ca-4641-9100-4f6e147bd606",
        "colab": {
          "base_uri": "https://localhost:8080/"
        }
      },
      "source": [
        "# PCA\n",
        "def pca(train, test, col, n_comp, prefix):\n",
        "    data = pd.concat([pd.DataFrame(train[col]), pd.DataFrame(test[col])])\n",
        "    data2 = (PCA(n_components=n_comp, random_state=42).fit_transform(data))\n",
        "\n",
        "    train2 = data2[:train.shape[0]] \n",
        "    test2 = data2[-test.shape[0]:]\n",
        "\n",
        "    train2 = pd.DataFrame(train2, columns=[f'pca_{prefix}-{i}' for i in range(n_comp)])\n",
        "    test2 = pd.DataFrame(test2, columns=[f'pca_{prefix}-{i}' for i in range(n_comp)])\n",
        "\n",
        "    # drop_cols = [f'c-{i}' for i in range(n_comp,len(CELLS))]\n",
        "    train = pd.concat((train, train2), axis=1)\n",
        "    test = pd.concat((test, test2), axis=1)\n",
        "    return train, test\n",
        "\n",
        "train_features, test_features = pca(train_features, test_features, GENES, 600, 'G')\n",
        "train_features, test_features = pca(train_features, test_features, CELLS,  50, 'C')\n",
        "train_features.shape, test_features.shape"
      ],
      "execution_count": 37,
      "outputs": [
        {
          "output_type": "execute_result",
          "data": {
            "text/plain": [
              "((23814, 1526), (3982, 1526))"
            ]
          },
          "metadata": {
            "tags": []
          },
          "execution_count": 37
        }
      ]
    },
    {
      "cell_type": "markdown",
      "metadata": {
        "id": "-Lip2g9Re3KI"
      },
      "source": [
        "As you can see, we are repeating ourselves. Lets write a function for it."
      ]
    },
    {
      "cell_type": "code",
      "metadata": {
        "id": "i44AItCp-ZYm"
      },
      "source": [
        "def sanity_check(): return train_features.shape, test_features.shape"
      ],
      "execution_count": 39,
      "outputs": []
    },
    {
      "cell_type": "code",
      "metadata": {
        "id": "_N6-XGWYAXnM",
        "outputId": "3f115d2a-0308-4779-bedf-b50d2f8985f0",
        "colab": {
          "base_uri": "https://localhost:8080/"
        }
      },
      "source": [
        "sanity_check()"
      ],
      "execution_count": 40,
      "outputs": [
        {
          "output_type": "execute_result",
          "data": {
            "text/plain": [
              "((23814, 1526), (3982, 1526))"
            ]
          },
          "metadata": {
            "tags": []
          },
          "execution_count": 40
        }
      ]
    },
    {
      "cell_type": "markdown",
      "metadata": {
        "id": "f01rL-grfJcQ"
      },
      "source": [
        "Great, now we have a handy little function to check the shapes."
      ]
    },
    {
      "cell_type": "markdown",
      "metadata": {
        "id": "EWZxWD_vfT5W"
      },
      "source": [
        "## Writing reproducable code\n",
        "\n",
        "#### 1. Make functions\n",
        "Generally speaking, every 2-3 lines of code that does a **single task** should be placed inside a function. Having a consistent naming scheme for your functions is very important.\n",
        "\n",
        "#### 2. Combine multiple functions into one\n",
        "Functions that you call one after the other should be placed inside another function. These second level functions should perform a second level task. By second level task, I mean, single idea like creating folds, cleaning data, etc. which have multiple steps in them. \n",
        "\n",
        "#### 3. Make python scripts\n",
        "Python script is the ultimate form of reproducible code (for me)! Copy paste all you functions (both first level and second level) into a file. \n",
        "\n",
        "Use `__name__ == \"__main__\"` whenever relevant. Its a great way to test your code. Also, it can act as documentation, show casing the following:\n",
        "- what the inputs are?, \n",
        "- how to use the functions?, and \n",
        "- what the ouputs are?\n",
        "\n",
        "**Note:**\n",
        "\n",
        "- There is no best way! Everyone has their own coding style and taste. So, you should not blindly follow these rules. Experiment a lot and see it for yourself. \n",
        "\n",
        "- Another important thing; to become good at something, you will have to invest a lot of time. So, be patient! You won't become a master overnight."
      ]
    },
    {
      "cell_type": "markdown",
      "metadata": {
        "id": "WMZUxF_WfUW_"
      },
      "source": [
        "Here is an example of all the principle that I talked about! I know, it's not perfect. It could have been much better. But for now, it should give you a pretty good idea."
      ]
    },
    {
      "cell_type": "code",
      "metadata": {
        "id": "FhStAytTDwSE",
        "outputId": "183009f6-a511-4636-8393-a7f2805b441c",
        "colab": {
          "base_uri": "https://localhost:8080/"
        }
      },
      "source": [
        "!git clone https://github.com/Ankur-singh/moa_kaggle\n",
        "%cd moa_kaggle"
      ],
      "execution_count": 41,
      "outputs": [
        {
          "output_type": "stream",
          "text": [
            "Cloning into 'moa_kaggle'...\n",
            "remote: Enumerating objects: 37, done.\u001b[K\n",
            "remote: Counting objects: 100% (37/37), done.\u001b[K\n",
            "remote: Compressing objects: 100% (25/25), done.\u001b[K\n",
            "remote: Total 37 (delta 15), reused 24 (delta 9), pack-reused 0\u001b[K\n",
            "Unpacking objects: 100% (37/37), done.\n",
            "/content/moa_kaggle\n"
          ],
          "name": "stdout"
        }
      ]
    },
    {
      "cell_type": "markdown",
      "metadata": {
        "id": "fYXJ2afwk9l_"
      },
      "source": [
        "## Uploading your code to github\n",
        "\n",
        "Any piece of code, that is frozen (you are sure that it works and you don't change it too often) should be uploaded to github.\n",
        "\n",
        "Having you code organised as python scipts can be a huge time saver. Here are the benefits:\n",
        "\n",
        "- You can experiment much faster. In kaggle competitions, your chances of winning are directly proportional to the number of iterations.\n",
        "\n",
        "- Its really good for reproducibility. Every time you start a new session, you can simply clone the repo and be sure that you have all the latest changes across all your notebooks (be it kaggle kernel, colab, or local notebook)."
      ]
    },
    {
      "cell_type": "markdown",
      "metadata": {
        "id": "RW9WguKsm1lO"
      },
      "source": [
        "## Futher Reading\n",
        "\n",
        "Here are some good resources to get started with:\n",
        "- https://realpython.com/python-pathlib/\n",
        "- https://www.kaggle.com/hiramcho/moa-tabnet-with-pca-rank-gauss"
      ]
    }
  ]
}